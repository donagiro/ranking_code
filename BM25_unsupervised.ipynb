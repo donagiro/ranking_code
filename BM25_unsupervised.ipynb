{
 "cells": [
  {
   "cell_type": "markdown",
   "metadata": {},
   "source": [
    "# BM25! `Best match 25` \n",
    "### Usupervised Ranking/Recommendation\n",
    "By Don: 2020.12.2"
   ]
  },
  {
   "cell_type": "code",
   "execution_count": 1,
   "metadata": {
    "colab": {
     "base_uri": "https://localhost:8080/"
    },
    "id": "5p4D3sAfmnds",
    "outputId": "d84d2e39-8ae3-4ec3-efe8-6933f3000f08"
   },
   "outputs": [],
   "source": [
    "# import pandas\n",
    "import pandas as pd\n",
    "pd.set_option('display.max_colwidth', None)"
   ]
  },
  {
   "cell_type": "code",
   "execution_count": 2,
   "metadata": {
    "colab": {
     "base_uri": "https://localhost:8080/",
     "height": 519
    },
    "id": "HfIq_AiNm0tL",
    "outputId": "b46fc5a2-5d9f-4ba5-83e0-1e331573bcb9"
   },
   "outputs": [],
   "source": [
    "###link to data used for this presentation\n",
    "#https://drive.google.com/file/d/1pJFPa5772JiXWxZ9pGpwNbO6D0BBCEXZ/view?usp=sharing\n",
    "df = pd.read_csv('./input/data.csv')"
   ]
  },
  {
   "cell_type": "code",
   "execution_count": 3,
   "metadata": {},
   "outputs": [
    {
     "name": "stdout",
     "output_type": "stream",
     "text": [
      "<class 'pandas.core.frame.DataFrame'>\n",
      "RangeIndex: 50000 entries, 0 to 49999\n",
      "Data columns (total 5 columns):\n",
      " #   Column      Non-Null Count  Dtype \n",
      "---  ------      --------------  ----- \n",
      " 0   Unnamed: 0  50000 non-null  int64 \n",
      " 1   url         50000 non-null  object\n",
      " 2   title       50000 non-null  object\n",
      " 3   desc        49993 non-null  object\n",
      " 4   text        50000 non-null  object\n",
      "dtypes: int64(1), object(4)\n",
      "memory usage: 1.9+ MB\n"
     ]
    }
   ],
   "source": [
    "df.info()"
   ]
  },
  {
   "cell_type": "raw",
   "metadata": {
    "id": "9NUn5Q4mNVeS"
   },
   "source": [
    "!pip install rank_bm25"
   ]
  },
  {
   "cell_type": "markdown",
   "metadata": {
    "id": "EfQKWB20A7_C"
   },
   "source": [
    "# Preprocess and Tokenize\n",
    "using Spacy"
   ]
  },
  {
   "cell_type": "raw",
   "metadata": {},
   "source": [
    "#run this on your command line\n",
    "python -m spacy download en_core_web_sm"
   ]
  },
  {
   "cell_type": "markdown",
   "metadata": {},
   "source": [
    "`SPACY` is fantastic for performing quick nlp preprocessing of text data and can save you time<BR>\n",
    "`TQDM` is a `Progress Bar` tool that can be wrapped around your code and show a simple progress bar..."
   ]
  },
  {
   "cell_type": "code",
   "execution_count": 4,
   "metadata": {
    "colab": {
     "base_uri": "https://localhost:8080/",
     "height": 33
    },
    "id": "Bdqu_tJFBD_c",
    "outputId": "601139b7-de5d-46d1-e593-5102acb66e55"
   },
   "outputs": [
    {
     "name": "stderr",
     "output_type": "stream",
     "text": [
      "50000it [00:21, 2337.13it/s]\n"
     ]
    }
   ],
   "source": [
    "import spacy\n",
    "from tqdm import tqdm\n",
    "\n",
    "# load a pretrained nlp library from spacy\n",
    "nlp = spacy.load('en_core_web_sm')\n",
    "\n",
    "tok_text=[] # for our tokenised corpus\n",
    "\n",
    "#Tokenize using SpaCy:\n",
    "for doc in tqdm(nlp.pipe(df.text.str.lower().values, disable=[\"tagger\", \"parser\",\"ner\"])):\n",
    "    tok = [t.text for t in doc if t.is_alpha]\n",
    "    tok_text.append(tok)\n"
   ]
  },
  {
   "cell_type": "markdown",
   "metadata": {
    "id": "7wa27UrkA_m7"
   },
   "source": [
    "# Simple BM25 Search fILTER\n",
    "BM25 has one of the best search and ranking libraries. it builds a vector space using it's pretrained. weighted vectors that also add `Syntactic logic` your strings before producing results on what it thinks is most important or relevant."
   ]
  },
  {
   "cell_type": "code",
   "execution_count": null,
   "metadata": {
    "id": "mePBUmdfNbOm"
   },
   "outputs": [],
   "source": [
    "# build vector space with generated tokens\n",
    "from rank_bm25 import BM25Okapi\n",
    "bm25 = BM25Okapi(tok_text)"
   ]
  },
  {
   "cell_type": "code",
   "execution_count": 7,
   "metadata": {
    "colab": {
     "base_uri": "https://localhost:8080/",
     "height": 121
    },
    "id": "1Ed38iCLRq4d",
    "outputId": "27108460-17b6-495c-e769-8a15cd295167"
   },
   "outputs": [
    {
     "name": "stdout",
     "output_type": "stream",
     "text": [
      "A̲C̲T̲I̲O̲N̲ ̲S̲T̲U̲F̲F̲\n",
      "\n",
      "Searched 50,000 records in 0.02 seconds \n",
      "\n",
      "Parking Buddies to support School Air Quality Action Plan (Idling Action Campaign) Purchase of school Parking Buddies to support School Air Quality Action Plan (Idling Action Campaign)\n",
      "\n",
      "\n",
      "Developing the Oxford Economic Strategy and Action Plan and the Oxford City Centre Vision and Action Plan 2020 to 2025 Oxford City Council is inviting quotations to develop two separate, but interrelated reports: a) Oxford Economic Strategy &amp; Action Plan b) Oxford City Centre Vision &amp; Action Plan\n",
      "\n",
      "\n",
      "Additional Work on Operational Safety Case Forward Action Plan Additional work on Operational Safety Case Forward Action Plan\n",
      "\n",
      "\n",
      "A̲D̲V̲E̲N̲T̲U̲R̲E̲ ̲S̲T̲U̲F̲F̲\n",
      "\n",
      "Searched 50,000 records in 0.028 seconds \n",
      "\n",
      "Fairhaven Lake Junior Adventure Play Area Adventure Play Area at Fairhaven Lake in Lytham St Anne&#039;s\n",
      "\n",
      "\n",
      "Fairhaven Adventure Golf Project Design and build of a high class unique adventure golf course at Fairhaven Lake, Lytham St Anne&#039;s. Further information can be found by expressing interest to the opportunity at; https://procontract.due-north.com/Advert?advertId=75df7640-c412-ea11-80fb-005056b64545\n",
      "\n",
      "\n",
      "Award of 1819-0029b The operation, delivery and facilities management of Hayward Adventure Playground Islington Council sought a provider to operate Hayward Adventure Playground. This included facilities management and provision of activities for children and young adults with Special Educational Needs and Disabilities.\n",
      "\n",
      "\n"
     ]
    }
   ],
   "source": [
    "import time\n",
    "\n",
    "###########################################################################################\n",
    "################################# ACTION CATEGORY #########################################\n",
    "#query/subject placeholder containing information \n",
    "#BM25 will use to generate results\n",
    "query = \"Action\"\n",
    "\n",
    "#query has to be tokenized like your dataset \n",
    "#before using BM25 to filter results\n",
    "tokenized_query = query.lower().split(\" \")\n",
    "\n",
    "t0 = time.time()\n",
    "#use tokenized query to generate results using BM25\n",
    "results = bm25.get_top_n(tokenized_query, df.text.values, n=3)\n",
    "t1 = time.time()\n",
    "\n",
    "#this prints out the subject and underlines it\n",
    "#this part is NOT NEEDED\n",
    "subject = \"ACTION STUFF\"\n",
    "for i in subject:\n",
    "    print(i+\"\\u0332\",end='')\n",
    "print('\\n')\n",
    "\n",
    "#print total records searched and the bm25-filtered results\n",
    "print(f'Searched 50,000 records in {round(t1-t0,3) } seconds \\n')\n",
    "for i in results:\n",
    "    print(i)\n",
    "    print(\"\\n\")\n",
    "\n",
    "###########################################################################################\n",
    "################################# ADEVENTURE CATEGORY #####################################\n",
    "\n",
    "query = \"Adventure\"\n",
    "tokenized_query = query.lower().split(\" \")\n",
    "\n",
    "t0 = time.time()\n",
    "results = bm25.get_top_n(tokenized_query, df.text.values, n=3)\n",
    "t1 = time.time()\n",
    "\n",
    "subject = \"ADVENTURE STUFF\"\n",
    "for i in subject:\n",
    "    print(i+\"\\u0332\",end='')\n",
    "print('\\n')\n",
    "\n",
    "print(f'Searched 50,000 records in {round(t1-t0,3) } seconds \\n')\n",
    "for i in results:\n",
    "    print(i)\n",
    "    print(\"\\n\")"
   ]
  },
  {
   "cell_type": "code",
   "execution_count": null,
   "metadata": {},
   "outputs": [],
   "source": []
  },
  {
   "cell_type": "code",
   "execution_count": null,
   "metadata": {},
   "outputs": [],
   "source": []
  },
  {
   "cell_type": "code",
   "execution_count": null,
   "metadata": {},
   "outputs": [],
   "source": []
  },
  {
   "cell_type": "code",
   "execution_count": null,
   "metadata": {},
   "outputs": [],
   "source": []
  },
  {
   "cell_type": "code",
   "execution_count": null,
   "metadata": {},
   "outputs": [],
   "source": []
  }
 ],
 "metadata": {
  "colab": {
   "collapsed_sections": [],
   "name": "Python BM25 search engine.ipynb",
   "provenance": []
  },
  "kernelspec": {
   "display_name": "Python 3",
   "language": "python",
   "name": "python3"
  },
  "language_info": {
   "codemirror_mode": {
    "name": "ipython",
    "version": 3
   },
   "file_extension": ".py",
   "mimetype": "text/x-python",
   "name": "python",
   "nbconvert_exporter": "python",
   "pygments_lexer": "ipython3",
   "version": "3.7.1"
  }
 },
 "nbformat": 4,
 "nbformat_minor": 4
}
